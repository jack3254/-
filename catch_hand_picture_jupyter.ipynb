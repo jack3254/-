{
 "cells": [
  {
   "cell_type": "code",
   "execution_count": 3,
   "metadata": {
    "id": "j30aa3_qv8iq",
    "outputId": "9b4b18a8-532d-4b89-debd-675e789c49fe"
   },
   "outputs": [
    {
     "name": "stdout",
     "output_type": "stream",
     "text": [
      "Ignoring empty camera frame.\n"
     ]
    }
   ],
   "source": [
    "import cv2\n",
    "import mediapipe as mp\n",
    "import os\n",
    "import numpy as np\n",
    "            \n",
    "            \n",
    "\n",
    "\n",
    "\n",
    "\n",
    "\n",
    "mp_drawing = mp.solutions.drawing_utils\n",
    "mp_holistic = mp.solutions.holistic\n",
    "\n",
    "holistic = mp_holistic.Holistic(\n",
    "    min_detection_confidence=0.5, min_tracking_confidence=0.5)\n",
    "# cap = cv2.VideoCapture(0)\n",
    "video_file_name='test (1)'\n",
    "count = 0\n",
    "cap = cv2.VideoCapture(video_file_name+'.mp4')\n",
    "success, image = cap.read()\n",
    "if success:\n",
    "    if not os.path.exists(video_file_name): # Check if there exist a directory(folder) to save the files converted from the video\n",
    "        os.makedirs(video_file_name) \n",
    "\n",
    "\n",
    "\n",
    "while cap.isOpened():\n",
    "    success, image = cap.read()\n",
    "    if not success:\n",
    "        print(\"Ignoring empty camera frame.\")\n",
    "        # If loading a video, use 'break' instead of 'continue'.\n",
    "        break\n",
    "\n",
    "    else:\n",
    "        image = cv2.cvtColor(image, cv2.COLOR_BGR2RGB)\n",
    "        image.flags.writeable = False\n",
    "        results = holistic.process(image)\n",
    "        image.flags.writeable = True\n",
    "        if results.right_hand_landmarks != None or results.left_hand_landmarks != None :\n",
    "        \n",
    "#         image = cv2.cvtColor(image, cv2.COLOR_RGB2BGR)\n",
    "#         image=np.zeros((image_hight,image_width,3),np.uint8)\n",
    "#         mp_drawing.draw_landmarks(\n",
    "#             image, results.face_landmarks, mp_holistic.FACE_CONNECTIONS)\n",
    "#         mp_drawing.draw_landmarks(\n",
    "#             image, results.left_hand_landmarks, mp_holistic.HAND_CONNECTIONS)\n",
    "#         mp_drawing.draw_landmarks(\n",
    "#             image, results.right_hand_landmarks, mp_holistic.HAND_CONNECTIONS)\n",
    "#         mp_drawing.draw_landmarks(\n",
    "#             image, results.pose_landmarks, mp_holistic.POSE_CONNECTIONS)\n",
    "#         cv2.imshow('MediaPipe Holistic', image)\n",
    "            cv2.imwrite(video_file_name+\"\\\\frame%d.jpg\" % count, image)\n",
    "            count += 1\n",
    "\n",
    "    \n",
    "cv2.destroyAllWindows()\n",
    "holistic.close()\n",
    "cap.release()"
   ]
  },
  {
   "cell_type": "code",
   "execution_count": null,
   "metadata": {
    "id": "ZJnKtfrhhfUc"
   },
   "outputs": [],
   "source": []
  }
 ],
 "metadata": {
  "colab": {
   "collapsed_sections": [],
   "name": "mediapipe_holistic_saving.ipynb",
   "provenance": [
    {
     "file_id": "16UOYQ9hPM6L5tkq7oQBl1ULJ8xuK5Lae",
     "timestamp": 1614050333316
    },
    {
     "file_id": "1uCuA6We9T5r0WljspEHWPHXCT_2bMKUy",
     "timestamp": 1607537340603
    }
   ]
  },
  "kernelspec": {
   "display_name": "Python 3",
   "language": "python",
   "name": "python3"
  },
  "language_info": {
   "codemirror_mode": {
    "name": "ipython",
    "version": 3
   },
   "file_extension": ".py",
   "mimetype": "text/x-python",
   "name": "python",
   "nbconvert_exporter": "python",
   "pygments_lexer": "ipython3",
   "version": "3.6.12"
  }
 },
 "nbformat": 4,
 "nbformat_minor": 1
}
